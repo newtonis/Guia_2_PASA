{
  "nbformat": 4,
  "nbformat_minor": 0,
  "metadata": {
    "colab": {
      "name": "Guia_2",
      "version": "0.3.2",
      "provenance": [],
      "collapsed_sections": []
    },
    "kernelspec": {
      "name": "python3",
      "display_name": "Python 3"
    }
  },
  "cells": [
    {
      "cell_type": "code",
      "metadata": {
        "id": "df2MvsypcrX8",
        "colab_type": "code",
        "colab": {}
      },
      "source": [
        "from IPython.display import clear_output\n",
        "!wget \"https://raw.githubusercontent.com/newtonis/PASA/master/Guia_2/The-Pink-Panther-Theme-Song.wav\"\n",
        "clear_output()\n",
        "\n",
        "from scipy.io.wavfile import read\n",
        "import numpy as np\n",
        "import IPython.display as ipd\n",
        "import matplotlib.pyplot as plt\n",
        "import wave, struct, math, random"
      ],
      "execution_count": 0,
      "outputs": []
    },
    {
      "cell_type": "code",
      "metadata": {
        "id": "thtLL4Kvdtk0",
        "colab_type": "code",
        "outputId": "6c423ac1-a277-4a99-b761-743bb2aba4f9",
        "colab": {
          "base_uri": "https://localhost:8080/",
          "height": 34
        }
      },
      "source": [
        "#para leer stereo\n",
        "file_name = \"The-Pink-Panther-Theme-Song.wav\"  \n",
        "file = read(file_name)\n",
        "print(file)\n",
        "datos = np.array(file[1],dtype=float)\n",
        "ch0 = datos[:, 0]\n",
        "ch1 = datos[:, 1]"
      ],
      "execution_count": 0,
      "outputs": [
        {
          "output_type": "stream",
          "text": [
            "(48000, array([], dtype=int16))\n"
          ],
          "name": "stdout"
        }
      ]
    },
    {
      "cell_type": "code",
      "metadata": {
        "id": "OFXi9S3eNfLh",
        "colab_type": "code",
        "colab": {
          "base_uri": "https://localhost:8080/",
          "height": 193
        },
        "outputId": "b2c53fc5-be9c-4a7e-9d07-a175dba05abf"
      },
      "source": [
        "file_name = \"The-Pink-Panther-Theme-Song.wav\"  \n",
        "\n",
        "def read_whole(filename):\n",
        "    wav_r = wave.open(filename, 'r')\n",
        "    ret = []\n",
        "    while wav_r.tell() < wav_r.getnframes():\n",
        "        decoded = struct.unpack(\"<h\", wav_r.readframes(1))\n",
        "        ret.append(decoded)\n",
        "    return ret\n",
        "\n",
        "archivo = read_whole(file_name)\n",
        "print(archivo)\n",
        "\n",
        "def autocorr(x):\n",
        "    result = np.correlate(x, x, mode='full')\n",
        "    return result[result.size/2:]\n"
      ],
      "execution_count": 12,
      "outputs": [
        {
          "output_type": "stream",
          "text": [
            "IOPub data rate exceeded.\n",
            "The notebook server will temporarily stop sending output\n",
            "to the client in order to avoid crashing it.\n",
            "To change this limit, set the config variable\n",
            "`--NotebookApp.iopub_data_rate_limit`.\n",
            "\n",
            "Current values:\n",
            "NotebookApp.iopub_data_rate_limit=1000000.0 (bytes/sec)\n",
            "NotebookApp.rate_limit_window=3.0 (secs)\n",
            "\n"
          ],
          "name": "stderr"
        }
      ]
    }
  ]
}